{
 "cells": [
  {
   "cell_type": "code",
   "execution_count": 19,
   "metadata": {},
   "outputs": [],
   "source": [
    "from blackfynn import Blackfynn\n",
    "from blackfynn import Dataset"
   ]
  },
  {
   "cell_type": "code",
   "execution_count": 2,
   "metadata": {},
   "outputs": [],
   "source": [
    "DATCORE_DATASET = 'SPARC December 2018'"
   ]
  },
  {
   "cell_type": "code",
   "execution_count": 5,
   "metadata": {},
   "outputs": [
    {
     "data": {
      "text/plain": [
       "<Blackfynn user='man8@pitt.edu' organization='Gaunt Lab'>"
      ]
     },
     "execution_count": 5,
     "metadata": {},
     "output_type": "execute_result"
    }
   ],
   "source": [
    "dcInstance = Blackfynn()\n",
    "dcInstance"
   ]
  },
  {
   "cell_type": "code",
   "execution_count": 9,
   "metadata": {},
   "outputs": [
    {
     "data": {
      "text/plain": [
       "True"
      ]
     },
     "execution_count": 9,
     "metadata": {},
     "output_type": "execute_result"
    }
   ],
   "source": [
    "isinstance(dcInstance,Blackfynn)"
   ]
  },
  {
   "cell_type": "code",
   "execution_count": 12,
   "metadata": {},
   "outputs": [
    {
     "data": {
      "text/plain": [
       "[<Dataset name='Demo Dataset' id='N:dataset:f4100ca6-7b6b-4b48-a3d1-ad67f1ac3fba'>,\n",
       " <Dataset name='Test Upload - Lee' id='N:dataset:3991e532-677f-4add-870e-43783a12dfcb'>,\n",
       " <Dataset name='Test1' id='N:dataset:7ee8b517-c8d8-4267-9326-00661dd8765f'>,\n",
       " <Dataset name='SPARC December 2018 Presentation' id='N:dataset:586237f2-46c6-47a1-ada4-ae06ca62e6e2'>,\n",
       " <Dataset name='SPARC December 2018' id='N:dataset:5b095997-ac40-430b-9e80-7d91ed3b6e06'>]"
      ]
     },
     "execution_count": 12,
     "metadata": {},
     "output_type": "execute_result"
    }
   ],
   "source": [
    "lDatasets = dcInstance.datasets()\n",
    "lDatasets"
   ]
  },
  {
   "cell_type": "code",
   "execution_count": 14,
   "metadata": {},
   "outputs": [
    {
     "data": {
      "text/plain": [
       "{u'N:dataset:3991e532-677f-4add-870e-43783a12dfcb': u'Test Upload - Lee',\n",
       " u'N:dataset:586237f2-46c6-47a1-ada4-ae06ca62e6e2': u'SPARC December 2018 Presentation',\n",
       " u'N:dataset:5b095997-ac40-430b-9e80-7d91ed3b6e06': u'SPARC December 2018',\n",
       " u'N:dataset:7ee8b517-c8d8-4267-9326-00661dd8765f': u'Test1',\n",
       " u'N:dataset:f4100ca6-7b6b-4b48-a3d1-ad67f1ac3fba': u'Demo Dataset'}"
      ]
     },
     "execution_count": 14,
     "metadata": {},
     "output_type": "execute_result"
    }
   ],
   "source": [
    "dDatasets = { item.id : item.name for item in lDatasets}\n",
    "dDatasets"
   ]
  },
  {
   "cell_type": "code",
   "execution_count": 6,
   "metadata": {},
   "outputs": [
    {
     "data": {
      "text/plain": [
       "<Dataset name='SPARC December 2018' id='N:dataset:5b095997-ac40-430b-9e80-7d91ed3b6e06'>"
      ]
     },
     "execution_count": 6,
     "metadata": {},
     "output_type": "execute_result"
    }
   ],
   "source": [
    "dcDataset = dcInstance.get_dataset(DATCORE_DATASET)\n",
    "dcDataset"
   ]
  },
  {
   "cell_type": "code",
   "execution_count": 20,
   "metadata": {},
   "outputs": [
    {
     "data": {
      "text/plain": [
       "True"
      ]
     },
     "execution_count": 20,
     "metadata": {},
     "output_type": "execute_result"
    }
   ],
   "source": [
    "isinstance(dcDataset,Dataset)"
   ]
  },
  {
   "cell_type": "code",
   "execution_count": 7,
   "metadata": {},
   "outputs": [
    {
     "data": {
      "text/plain": [
       "{u'Grant': <Model type='Grant' id='6e81a9fd-7c46-4242-89d6-80fe5875e2be'>,\n",
       " u'RecordingChannelData': <Model type='RecordingChannelData' id='b16c6b0e-4af1-4603-a34e-5b578aabe604'>,\n",
       " u'StimulationChannelData': <Model type='StimulationChannelData' id='84bb8b4a-d6cd-4a38-bac9-349ecd78d90c'>,\n",
       " u'Subject': <Model type='Subject' id='e98fc46e-9ebf-4dde-b664-7391016ce095'>,\n",
       " u'Trial': <Model type='Trial' id='115dcf9d-d535-442a-a1e2-1edd9a542a2c'>}"
      ]
     },
     "execution_count": 7,
     "metadata": {},
     "output_type": "execute_result"
    }
   ],
   "source": [
    "hModels = dcDataset.models()\n",
    "hModels"
   ]
  },
  {
   "cell_type": "code",
   "execution_count": 18,
   "metadata": {},
   "outputs": [
    {
     "data": {
      "text/plain": [
       "{u'115dcf9d-d535-442a-a1e2-1edd9a542a2c': u'Trial',\n",
       " u'6e81a9fd-7c46-4242-89d6-80fe5875e2be': u'Grant',\n",
       " u'84bb8b4a-d6cd-4a38-bac9-349ecd78d90c': u'StimulationChannelData',\n",
       " u'b16c6b0e-4af1-4603-a34e-5b578aabe604': u'RecordingChannelData',\n",
       " u'e98fc46e-9ebf-4dde-b664-7391016ce095': u'Subject'}"
      ]
     },
     "execution_count": 18,
     "metadata": {},
     "output_type": "execute_result"
    }
   ],
   "source": [
    "jsonModelNames = { item.id : key for key, item in hModels.items()}\n",
    "jsonModelNames"
   ]
  },
  {
   "cell_type": "code",
   "execution_count": 23,
   "metadata": {},
   "outputs": [],
   "source": [
    "hModel = hModels['Trial']"
   ]
  },
  {
   "cell_type": "code",
   "execution_count": 37,
   "metadata": {},
   "outputs": [
    {
     "data": {
      "text/plain": [
       "<Model type='Trial' id='115dcf9d-d535-442a-a1e2-1edd9a542a2c'>"
      ]
     },
     "execution_count": 37,
     "metadata": {},
     "output_type": "execute_result"
    }
   ],
   "source": [
    "hModel"
   ]
  },
  {
   "cell_type": "code",
   "execution_count": 38,
   "metadata": {},
   "outputs": [
    {
     "data": {
      "text/plain": [
       "{u'MainRawDataFileLocalPath': <ModelProperty name='MainRawDataFileLocalPath' <type 'unicode'>>,\n",
       " u'Name': <ModelProperty name='Name' <type 'unicode'>>,\n",
       " u'StimulationArrayPlacement': <ModelProperty name='StimulationArrayPlacement' <type 'unicode'>>,\n",
       " u'StimulationChannel': <ModelProperty name='StimulationChannel' <type 'unicode'>>,\n",
       " u'SubjectName': <ModelProperty name='SubjectName' <type 'unicode'>>,\n",
       " u'TrialId': <ModelProperty name='TrialId' <type 'float'>>,\n",
       " u'TrialType': <ModelProperty name='TrialType' <type 'unicode'>>,\n",
       " u'_mdfType': <ModelProperty name='_mdfType' <type 'unicode'>>,\n",
       " u'_mdfUuid': <ModelProperty name='_mdfUuid' <type 'unicode'>>}"
      ]
     },
     "execution_count": 38,
     "metadata": {},
     "output_type": "execute_result"
    }
   ],
   "source": [
    "hModel.schema"
   ]
  },
  {
   "cell_type": "code",
   "execution_count": 31,
   "metadata": {
    "scrolled": true
   },
   "outputs": [
    {
     "data": {
      "text/plain": [
       "u'ee20e91e-cf70-4cac-9836-8ddff8e741ca'"
      ]
     },
     "execution_count": 31,
     "metadata": {},
     "output_type": "execute_result"
    }
   ],
   "source": [
    "hModel.schema['Name'].id"
   ]
  },
  {
   "cell_type": "code",
   "execution_count": 36,
   "metadata": {},
   "outputs": [
    {
     "data": {
      "text/plain": [
       "{u'115dcf9d-d535-442a-a1e2-1edd9a542a2c': {'name': u'Trial',\n",
       "  'preperties': {u'0d96b7eb-4db5-4521-8b20-c1e46371d3fc': {'name': u'MainRawDataFileLocalPath',\n",
       "    'type': unicode},\n",
       "   u'0e99540b-0a92-4263-aff1-2a664972c222': {'name': u'_mdfUuid',\n",
       "    'type': unicode},\n",
       "   u'19a22763-7dfa-48d5-88d4-a1a4e0138c74': {'name': u'_mdfType',\n",
       "    'type': unicode},\n",
       "   u'3887fb94-9ce4-4f74-8b15-c08b721af9f9': {'name': u'TrialType',\n",
       "    'type': unicode},\n",
       "   u'40e4f18e-d292-4c77-a0d1-9a8df1b2672f': {'name': u'TrialId',\n",
       "    'type': float},\n",
       "   u'41f15851-cc14-4f22-9619-0b2d822f5f55': {'name': u'StimulationArrayPlacement',\n",
       "    'type': unicode},\n",
       "   u'634eaa9b-0fe0-4274-8bf4-54cd3ef78284': {'name': u'SubjectName',\n",
       "    'type': unicode},\n",
       "   u'78062302-27de-446e-a912-633633fc3baf': {'name': u'StimulationChannel',\n",
       "    'type': unicode},\n",
       "   u'ee20e91e-cf70-4cac-9836-8ddff8e741ca': {'name': u'Name',\n",
       "    'type': unicode}}},\n",
       " u'6e81a9fd-7c46-4242-89d6-80fe5875e2be': {'name': u'Grant',\n",
       "  'preperties': {u'453860c3-fff9-4391-9612-127d0fa7517a': {'name': u'Name',\n",
       "    'type': unicode},\n",
       "   u'4d8f33d3-a59a-4678-9389-79d425af1f14': {'name': u'_mdfUuid',\n",
       "    'type': unicode},\n",
       "   u'55f39a42-62d2-4e75-85f5-81346e9a9912': {'name': u'GrantNumber',\n",
       "    'type': unicode},\n",
       "   u'6f07697e-6f40-4b3d-8fec-1cddb638ac34': {'name': u'GrantName',\n",
       "    'type': unicode},\n",
       "   u'88f589f5-f977-41e5-b955-09aa9ff96270': {'name': u'_mdfType',\n",
       "    'type': unicode}}},\n",
       " u'84bb8b4a-d6cd-4a38-bac9-349ecd78d90c': {'name': u'StimulationChannelData',\n",
       "  'preperties': {u'2a1b8bd5-e5a3-4fc3-8d5c-edc26c3661e2': {'name': u'StimulationAmplitude_uA',\n",
       "    'type': unicode},\n",
       "   u'37322127-167b-4f0d-8057-d8ac05657cfc': {'name': u'_mdfUuid',\n",
       "    'type': unicode},\n",
       "   u'446eb543-c46e-4253-b06f-07a456a17814': {'name': u'StimulationType',\n",
       "    'type': unicode},\n",
       "   u'68794943-c6ac-470d-88c4-a2ef1ffd439e': {'name': u'_StimulationDeliveryTimesFileHash',\n",
       "    'type': unicode},\n",
       "   u'91ab9bb4-34ba-4918-a42e-7d1545ed25df': {'name': u'_mdfType',\n",
       "    'type': unicode},\n",
       "   u'cca7320a-51e5-49cd-b7da-e0a5b3d8de7e': {'name': u'Name', 'type': unicode},\n",
       "   u'd65513ec-4001-49ab-a0c6-b591fc13e70c': {'name': u'StimulatorOperationalFrequency_Hz',\n",
       "    'type': float},\n",
       "   u'e4b37fdb-4ff6-4215-beab-1de9caf2c1e3': {'name': u'QuietRecordingTrial',\n",
       "    'type': unicode},\n",
       "   u'f0bb9cac-04d5-4da9-b9b9-4c5d3fd1d01d': {'name': u'StimulationFrequency_Hz',\n",
       "    'type': float},\n",
       "   u'f3b63b2f-4796-4959-959b-b6155075757d': {'name': u'StimulationChannel',\n",
       "    'type': unicode}}},\n",
       " u'b16c6b0e-4af1-4603-a34e-5b578aabe604': {'name': u'RecordingChannelData',\n",
       "  'preperties': {u'17fb3c40-8579-4110-93d1-807f2c1ccfd3': {'name': u'SamplingFrequency_Hz',\n",
       "    'type': float},\n",
       "   u'369a9610-61ef-45ca-86e0-687555dba31c': {'name': u'RecordingLocation',\n",
       "    'type': unicode},\n",
       "   u'3bc90cf8-a7c7-40ac-a33f-171bc39b51d4': {'name': u'_RecordingChannelFileHash',\n",
       "    'type': unicode},\n",
       "   u'5c43fa91-7ac0-47ef-be89-d22242640ecd': {'name': u'RawFileChannels',\n",
       "    'type': unicode},\n",
       "   u'65939fdf-d85f-45cb-ace2-dc114219649e': {'name': u'_mdfUuid',\n",
       "    'type': unicode},\n",
       "   u'b81c7234-0e31-4a9e-83a0-37957c73c676': {'name': u'Name', 'type': unicode},\n",
       "   u'c343d31c-e9be-4ad6-b3e2-cf250a1adffe': {'name': u'_mdfType',\n",
       "    'type': unicode}}},\n",
       " u'e98fc46e-9ebf-4dde-b664-7391016ce095': {'name': u'Subject',\n",
       "  'preperties': {u'0906140b-710b-495a-8072-5dacd77193bb': {'name': u'WeightUnit',\n",
       "    'type': unicode},\n",
       "   u'186eebce-0e9e-4d4e-b364-f629ace13084': {'name': u'_mdfUuid',\n",
       "    'type': unicode},\n",
       "   u'4bca19b2-89e0-4f4d-89fb-d24e1b52eea4': {'name': u'_mdfType',\n",
       "    'type': unicode},\n",
       "   u'5ce785f8-d796-493b-b337-0ea6054b4a14': {'name': u'Weight',\n",
       "    'type': unicode},\n",
       "   u'802da90b-d1b1-4c7f-b73d-77aaa8c5747e': {'name': u'USDANumber',\n",
       "    'type': unicode},\n",
       "   u'92599ade-9d2e-4a28-b955-b52cb2e7351b': {'name': u'Name', 'type': unicode},\n",
       "   u'b7a30db0-50d9-476b-9461-67a76c413969': {'name': u'SubjectName',\n",
       "    'type': unicode},\n",
       "   u'fdf8b318-ee18-413f-a367-04db22658257': {'name': u'Species',\n",
       "    'type': unicode}}}}"
      ]
     },
     "execution_count": 36,
     "metadata": {},
     "output_type": "execute_result"
    }
   ],
   "source": [
    "jsonModelsInfo = {}\n",
    "for mName,mObject in hModels.items():\n",
    "    jsonModelsInfo[mObject.id] = {\n",
    "        'name' : mName,\n",
    "        'preperties' : {pObject.id : {'name' : pObject.name, 'type' : pObject.type} for pName,pObject in mObject.schema.items()}\n",
    "    }\n",
    "jsonModelsInfo\n"
   ]
  },
  {
   "cell_type": "code",
   "execution_count": null,
   "metadata": {},
   "outputs": [],
   "source": []
  }
 ],
 "metadata": {
  "kernelspec": {
   "display_name": "Python 2",
   "language": "python",
   "name": "python2"
  },
  "language_info": {
   "codemirror_mode": {
    "name": "ipython",
    "version": 2
   },
   "file_extension": ".py",
   "mimetype": "text/x-python",
   "name": "python",
   "nbconvert_exporter": "python",
   "pygments_lexer": "ipython2",
   "version": "2.7.12"
  }
 },
 "nbformat": 4,
 "nbformat_minor": 2
}
