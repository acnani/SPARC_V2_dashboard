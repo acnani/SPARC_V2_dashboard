{
 "cells": [
  {
   "cell_type": "code",
   "execution_count": 19,
   "metadata": {},
   "outputs": [],
   "source": [
    "from blackfynn import Blackfynn\n",
    "from blackfynn import Dataset"
   ]
  },
  {
   "cell_type": "code",
   "execution_count": 2,
   "metadata": {},
   "outputs": [],
   "source": [
    "DATCORE_DATASET = 'SPARC December 2018'"
   ]
  },
  {
   "cell_type": "code",
   "execution_count": 5,
   "metadata": {},
   "outputs": [
    {
     "data": {
      "text/plain": [
       "<Blackfynn user='man8@pitt.edu' organization='Gaunt Lab'>"
      ]
     },
     "execution_count": 5,
     "metadata": {},
     "output_type": "execute_result"
    }
   ],
   "source": [
    "dcInstance = Blackfynn()\n",
    "dcInstance"
   ]
  },
  {
   "cell_type": "code",
   "execution_count": 9,
   "metadata": {},
   "outputs": [
    {
     "data": {
      "text/plain": [
       "True"
      ]
     },
     "execution_count": 9,
     "metadata": {},
     "output_type": "execute_result"
    }
   ],
   "source": [
    "isinstance(dcInstance,Blackfynn)"
   ]
  },
  {
   "cell_type": "code",
   "execution_count": 12,
   "metadata": {},
   "outputs": [
    {
     "data": {
      "text/plain": [
       "[<Dataset name='Demo Dataset' id='N:dataset:f4100ca6-7b6b-4b48-a3d1-ad67f1ac3fba'>,\n",
       " <Dataset name='Test Upload - Lee' id='N:dataset:3991e532-677f-4add-870e-43783a12dfcb'>,\n",
       " <Dataset name='Test1' id='N:dataset:7ee8b517-c8d8-4267-9326-00661dd8765f'>,\n",
       " <Dataset name='SPARC December 2018 Presentation' id='N:dataset:586237f2-46c6-47a1-ada4-ae06ca62e6e2'>,\n",
       " <Dataset name='SPARC December 2018' id='N:dataset:5b095997-ac40-430b-9e80-7d91ed3b6e06'>]"
      ]
     },
     "execution_count": 12,
     "metadata": {},
     "output_type": "execute_result"
    }
   ],
   "source": [
    "lDatasets = dcInstance.datasets()\n",
    "lDatasets"
   ]
  },
  {
   "cell_type": "code",
   "execution_count": 14,
   "metadata": {},
   "outputs": [
    {
     "data": {
      "text/plain": [
       "{u'N:dataset:3991e532-677f-4add-870e-43783a12dfcb': u'Test Upload - Lee',\n",
       " u'N:dataset:586237f2-46c6-47a1-ada4-ae06ca62e6e2': u'SPARC December 2018 Presentation',\n",
       " u'N:dataset:5b095997-ac40-430b-9e80-7d91ed3b6e06': u'SPARC December 2018',\n",
       " u'N:dataset:7ee8b517-c8d8-4267-9326-00661dd8765f': u'Test1',\n",
       " u'N:dataset:f4100ca6-7b6b-4b48-a3d1-ad67f1ac3fba': u'Demo Dataset'}"
      ]
     },
     "execution_count": 14,
     "metadata": {},
     "output_type": "execute_result"
    }
   ],
   "source": [
    "dDatasets = { item.id : item.name for item in lDatasets}\n",
    "dDatasets"
   ]
  },
  {
   "cell_type": "code",
   "execution_count": 6,
   "metadata": {},
   "outputs": [
    {
     "data": {
      "text/plain": [
       "<Dataset name='SPARC December 2018' id='N:dataset:5b095997-ac40-430b-9e80-7d91ed3b6e06'>"
      ]
     },
     "execution_count": 6,
     "metadata": {},
     "output_type": "execute_result"
    }
   ],
   "source": [
    "dcDataset = dcInstance.get_dataset(DATCORE_DATASET)\n",
    "dcDataset"
   ]
  },
  {
   "cell_type": "code",
   "execution_count": 20,
   "metadata": {},
   "outputs": [
    {
     "data": {
      "text/plain": [
       "True"
      ]
     },
     "execution_count": 20,
     "metadata": {},
     "output_type": "execute_result"
    }
   ],
   "source": [
    "isinstance(dcDataset,Dataset)"
   ]
  },
  {
   "cell_type": "code",
   "execution_count": 7,
   "metadata": {},
   "outputs": [
    {
     "data": {
      "text/plain": [
       "{u'Grant': <Model type='Grant' id='6e81a9fd-7c46-4242-89d6-80fe5875e2be'>,\n",
       " u'RecordingChannelData': <Model type='RecordingChannelData' id='b16c6b0e-4af1-4603-a34e-5b578aabe604'>,\n",
       " u'StimulationChannelData': <Model type='StimulationChannelData' id='84bb8b4a-d6cd-4a38-bac9-349ecd78d90c'>,\n",
       " u'Subject': <Model type='Subject' id='e98fc46e-9ebf-4dde-b664-7391016ce095'>,\n",
       " u'Trial': <Model type='Trial' id='115dcf9d-d535-442a-a1e2-1edd9a542a2c'>}"
      ]
     },
     "execution_count": 7,
     "metadata": {},
     "output_type": "execute_result"
    }
   ],
   "source": [
    "hModels = dcDataset.models()\n",
    "hModels"
   ]
  },
  {
   "cell_type": "code",
   "execution_count": 18,
   "metadata": {},
   "outputs": [
    {
     "data": {
      "text/plain": [
       "{u'115dcf9d-d535-442a-a1e2-1edd9a542a2c': u'Trial',\n",
       " u'6e81a9fd-7c46-4242-89d6-80fe5875e2be': u'Grant',\n",
       " u'84bb8b4a-d6cd-4a38-bac9-349ecd78d90c': u'StimulationChannelData',\n",
       " u'b16c6b0e-4af1-4603-a34e-5b578aabe604': u'RecordingChannelData',\n",
       " u'e98fc46e-9ebf-4dde-b664-7391016ce095': u'Subject'}"
      ]
     },
     "execution_count": 18,
     "metadata": {},
     "output_type": "execute_result"
    }
   ],
   "source": [
    "jsonModelNames = { item.id : key for key, item in hModels.items()}\n",
    "jsonModelNames"
   ]
  },
  {
   "cell_type": "code",
   "execution_count": 42,
   "metadata": {},
   "outputs": [
    {
     "data": {
      "text/plain": [
       "{u'M:model:115dcf9d-d535-442a-a1e2-1edd9a542a2c': u'Trial',\n",
       " u'M:model:6e81a9fd-7c46-4242-89d6-80fe5875e2be': u'Grant',\n",
       " u'M:model:84bb8b4a-d6cd-4a38-bac9-349ecd78d90c': u'StimulationChannelData',\n",
       " u'M:model:b16c6b0e-4af1-4603-a34e-5b578aabe604': u'RecordingChannelData',\n",
       " u'M:model:e98fc46e-9ebf-4dde-b664-7391016ce095': u'Subject'}"
      ]
     },
     "execution_count": 42,
     "metadata": {},
     "output_type": "execute_result"
    }
   ],
   "source": [
    "jsonModelNames = { 'M:model:'+item.id : key for key, item in hModels.items()}\n",
    "jsonModelNames"
   ]
  },
  {
   "cell_type": "code",
   "execution_count": 23,
   "metadata": {},
   "outputs": [],
   "source": [
    "hModel = hModels['Trial']"
   ]
  },
  {
   "cell_type": "code",
   "execution_count": 37,
   "metadata": {},
   "outputs": [
    {
     "data": {
      "text/plain": [
       "<Model type='Trial' id='115dcf9d-d535-442a-a1e2-1edd9a542a2c'>"
      ]
     },
     "execution_count": 37,
     "metadata": {},
     "output_type": "execute_result"
    }
   ],
   "source": [
    "hModel"
   ]
  },
  {
   "cell_type": "code",
   "execution_count": 39,
   "metadata": {},
   "outputs": [
    {
     "data": {
      "text/plain": [
       "{u'MainRawDataFileLocalPath': <ModelProperty name='MainRawDataFileLocalPath' <type 'unicode'>>,\n",
       " u'Name': <ModelProperty name='Name' <type 'unicode'>>,\n",
       " u'StimulationArrayPlacement': <ModelProperty name='StimulationArrayPlacement' <type 'unicode'>>,\n",
       " u'StimulationChannel': <ModelProperty name='StimulationChannel' <type 'unicode'>>,\n",
       " u'SubjectName': <ModelProperty name='SubjectName' <type 'unicode'>>,\n",
       " u'TrialId': <ModelProperty name='TrialId' <type 'float'>>,\n",
       " u'TrialType': <ModelProperty name='TrialType' <type 'unicode'>>,\n",
       " u'_mdfType': <ModelProperty name='_mdfType' <type 'unicode'>>,\n",
       " u'_mdfUuid': <ModelProperty name='_mdfUuid' <type 'unicode'>>}"
      ]
     },
     "execution_count": 39,
     "metadata": {},
     "output_type": "execute_result"
    }
   ],
   "source": [
    "hModel.schema"
   ]
  },
  {
   "cell_type": "code",
   "execution_count": 31,
   "metadata": {
    "scrolled": true
   },
   "outputs": [
    {
     "data": {
      "text/plain": [
       "u'ee20e91e-cf70-4cac-9836-8ddff8e741ca'"
      ]
     },
     "execution_count": 31,
     "metadata": {},
     "output_type": "execute_result"
    }
   ],
   "source": [
    "hModel.schema['Name'].id"
   ]
  },
  {
   "cell_type": "code",
   "execution_count": 45,
   "metadata": {},
   "outputs": [
    {
     "data": {
      "text/plain": [
       "{u'M:model:115dcf9d-d535-442a-a1e2-1edd9a542a2c': {'name': u'Trial',\n",
       "  'preperties': {u'P:Trial:0d96b7eb-4db5-4521-8b20-c1e46371d3fc': {'name': u'MainRawDataFileLocalPath',\n",
       "    'type': unicode},\n",
       "   u'P:Trial:0e99540b-0a92-4263-aff1-2a664972c222': {'name': u'_mdfUuid',\n",
       "    'type': unicode},\n",
       "   u'P:Trial:19a22763-7dfa-48d5-88d4-a1a4e0138c74': {'name': u'_mdfType',\n",
       "    'type': unicode},\n",
       "   u'P:Trial:3887fb94-9ce4-4f74-8b15-c08b721af9f9': {'name': u'TrialType',\n",
       "    'type': unicode},\n",
       "   u'P:Trial:40e4f18e-d292-4c77-a0d1-9a8df1b2672f': {'name': u'TrialId',\n",
       "    'type': float},\n",
       "   u'P:Trial:41f15851-cc14-4f22-9619-0b2d822f5f55': {'name': u'StimulationArrayPlacement',\n",
       "    'type': unicode},\n",
       "   u'P:Trial:634eaa9b-0fe0-4274-8bf4-54cd3ef78284': {'name': u'SubjectName',\n",
       "    'type': unicode},\n",
       "   u'P:Trial:78062302-27de-446e-a912-633633fc3baf': {'name': u'StimulationChannel',\n",
       "    'type': unicode},\n",
       "   u'P:Trial:ee20e91e-cf70-4cac-9836-8ddff8e741ca': {'name': u'Name',\n",
       "    'type': unicode}}},\n",
       " u'M:model:6e81a9fd-7c46-4242-89d6-80fe5875e2be': {'name': u'Grant',\n",
       "  'preperties': {u'P:Grant:453860c3-fff9-4391-9612-127d0fa7517a': {'name': u'Name',\n",
       "    'type': unicode},\n",
       "   u'P:Grant:4d8f33d3-a59a-4678-9389-79d425af1f14': {'name': u'_mdfUuid',\n",
       "    'type': unicode},\n",
       "   u'P:Grant:55f39a42-62d2-4e75-85f5-81346e9a9912': {'name': u'GrantNumber',\n",
       "    'type': unicode},\n",
       "   u'P:Grant:6f07697e-6f40-4b3d-8fec-1cddb638ac34': {'name': u'GrantName',\n",
       "    'type': unicode},\n",
       "   u'P:Grant:88f589f5-f977-41e5-b955-09aa9ff96270': {'name': u'_mdfType',\n",
       "    'type': unicode}}},\n",
       " u'M:model:84bb8b4a-d6cd-4a38-bac9-349ecd78d90c': {'name': u'StimulationChannelData',\n",
       "  'preperties': {u'P:StimulationChannelData:2a1b8bd5-e5a3-4fc3-8d5c-edc26c3661e2': {'name': u'StimulationAmplitude_uA',\n",
       "    'type': unicode},\n",
       "   u'P:StimulationChannelData:37322127-167b-4f0d-8057-d8ac05657cfc': {'name': u'_mdfUuid',\n",
       "    'type': unicode},\n",
       "   u'P:StimulationChannelData:446eb543-c46e-4253-b06f-07a456a17814': {'name': u'StimulationType',\n",
       "    'type': unicode},\n",
       "   u'P:StimulationChannelData:68794943-c6ac-470d-88c4-a2ef1ffd439e': {'name': u'_StimulationDeliveryTimesFileHash',\n",
       "    'type': unicode},\n",
       "   u'P:StimulationChannelData:91ab9bb4-34ba-4918-a42e-7d1545ed25df': {'name': u'_mdfType',\n",
       "    'type': unicode},\n",
       "   u'P:StimulationChannelData:cca7320a-51e5-49cd-b7da-e0a5b3d8de7e': {'name': u'Name',\n",
       "    'type': unicode},\n",
       "   u'P:StimulationChannelData:d65513ec-4001-49ab-a0c6-b591fc13e70c': {'name': u'StimulatorOperationalFrequency_Hz',\n",
       "    'type': float},\n",
       "   u'P:StimulationChannelData:e4b37fdb-4ff6-4215-beab-1de9caf2c1e3': {'name': u'QuietRecordingTrial',\n",
       "    'type': unicode},\n",
       "   u'P:StimulationChannelData:f0bb9cac-04d5-4da9-b9b9-4c5d3fd1d01d': {'name': u'StimulationFrequency_Hz',\n",
       "    'type': float},\n",
       "   u'P:StimulationChannelData:f3b63b2f-4796-4959-959b-b6155075757d': {'name': u'StimulationChannel',\n",
       "    'type': unicode}}},\n",
       " u'M:model:b16c6b0e-4af1-4603-a34e-5b578aabe604': {'name': u'RecordingChannelData',\n",
       "  'preperties': {u'P:RecordingChannelData:17fb3c40-8579-4110-93d1-807f2c1ccfd3': {'name': u'SamplingFrequency_Hz',\n",
       "    'type': float},\n",
       "   u'P:RecordingChannelData:369a9610-61ef-45ca-86e0-687555dba31c': {'name': u'RecordingLocation',\n",
       "    'type': unicode},\n",
       "   u'P:RecordingChannelData:3bc90cf8-a7c7-40ac-a33f-171bc39b51d4': {'name': u'_RecordingChannelFileHash',\n",
       "    'type': unicode},\n",
       "   u'P:RecordingChannelData:5c43fa91-7ac0-47ef-be89-d22242640ecd': {'name': u'RawFileChannels',\n",
       "    'type': unicode},\n",
       "   u'P:RecordingChannelData:65939fdf-d85f-45cb-ace2-dc114219649e': {'name': u'_mdfUuid',\n",
       "    'type': unicode},\n",
       "   u'P:RecordingChannelData:b81c7234-0e31-4a9e-83a0-37957c73c676': {'name': u'Name',\n",
       "    'type': unicode},\n",
       "   u'P:RecordingChannelData:c343d31c-e9be-4ad6-b3e2-cf250a1adffe': {'name': u'_mdfType',\n",
       "    'type': unicode}}},\n",
       " u'M:model:e98fc46e-9ebf-4dde-b664-7391016ce095': {'name': u'Subject',\n",
       "  'preperties': {u'P:Subject:0906140b-710b-495a-8072-5dacd77193bb': {'name': u'WeightUnit',\n",
       "    'type': unicode},\n",
       "   u'P:Subject:186eebce-0e9e-4d4e-b364-f629ace13084': {'name': u'_mdfUuid',\n",
       "    'type': unicode},\n",
       "   u'P:Subject:4bca19b2-89e0-4f4d-89fb-d24e1b52eea4': {'name': u'_mdfType',\n",
       "    'type': unicode},\n",
       "   u'P:Subject:5ce785f8-d796-493b-b337-0ea6054b4a14': {'name': u'Weight',\n",
       "    'type': unicode},\n",
       "   u'P:Subject:802da90b-d1b1-4c7f-b73d-77aaa8c5747e': {'name': u'USDANumber',\n",
       "    'type': unicode},\n",
       "   u'P:Subject:92599ade-9d2e-4a28-b955-b52cb2e7351b': {'name': u'Name',\n",
       "    'type': unicode},\n",
       "   u'P:Subject:b7a30db0-50d9-476b-9461-67a76c413969': {'name': u'SubjectName',\n",
       "    'type': unicode},\n",
       "   u'P:Subject:fdf8b318-ee18-413f-a367-04db22658257': {'name': u'Species',\n",
       "    'type': unicode}}}}"
      ]
     },
     "execution_count": 45,
     "metadata": {},
     "output_type": "execute_result"
    }
   ],
   "source": [
    "jsonModelsInfo = {}\n",
    "for mName,mObject in hModels.items():\n",
    "    jsonModelsInfo['M:model:'+mObject.id] = {\n",
    "        'name' : mName,\n",
    "        'preperties' : { 'P:'+mName+':'+pObject.id : {'name' : pObject.name, 'type' : pObject.type} for pName,pObject in mObject.schema.items()}\n",
    "    }\n",
    "jsonModelsInfo\n"
   ]
  },
  {
   "cell_type": "code",
   "execution_count": 41,
   "metadata": {
    "scrolled": true
   },
   "outputs": [
    {
     "data": {
      "text/plain": [
       "{'description': '',\n",
       " 'displayName': u'Trial',\n",
       " 'locked': False,\n",
       " 'name': u'Trial',\n",
       " 'schema': [{'conceptTitle': False,\n",
       "   'dataType': 'string',\n",
       "   'default': True,\n",
       "   'description': u'',\n",
       "   'displayName': u'_mdfUuid',\n",
       "   'id': u'0e99540b-0a92-4263-aff1-2a664972c222',\n",
       "   'locked': False,\n",
       "   'name': u'_mdfUuid',\n",
       "   'required': False},\n",
       "  {'conceptTitle': True,\n",
       "   'dataType': 'string',\n",
       "   'default': True,\n",
       "   'description': u'',\n",
       "   'displayName': u'Name',\n",
       "   'id': u'ee20e91e-cf70-4cac-9836-8ddff8e741ca',\n",
       "   'locked': False,\n",
       "   'name': u'Name',\n",
       "   'required': False},\n",
       "  {'conceptTitle': False,\n",
       "   'dataType': 'string',\n",
       "   'default': True,\n",
       "   'description': u'',\n",
       "   'displayName': u'StimulationChannel',\n",
       "   'id': u'78062302-27de-446e-a912-633633fc3baf',\n",
       "   'locked': False,\n",
       "   'name': u'StimulationChannel',\n",
       "   'required': False},\n",
       "  {'conceptTitle': False,\n",
       "   'dataType': 'string',\n",
       "   'default': True,\n",
       "   'description': u'',\n",
       "   'displayName': u'_mdfType',\n",
       "   'id': u'19a22763-7dfa-48d5-88d4-a1a4e0138c74',\n",
       "   'locked': False,\n",
       "   'name': u'_mdfType',\n",
       "   'required': False},\n",
       "  {'conceptTitle': False,\n",
       "   'dataType': 'string',\n",
       "   'default': True,\n",
       "   'description': u'',\n",
       "   'displayName': u'SubjectName',\n",
       "   'id': u'634eaa9b-0fe0-4274-8bf4-54cd3ef78284',\n",
       "   'locked': False,\n",
       "   'name': u'SubjectName',\n",
       "   'required': False},\n",
       "  {'conceptTitle': False,\n",
       "   'dataType': 'string',\n",
       "   'default': True,\n",
       "   'description': u'',\n",
       "   'displayName': u'TrialType',\n",
       "   'id': u'3887fb94-9ce4-4f74-8b15-c08b721af9f9',\n",
       "   'locked': False,\n",
       "   'name': u'TrialType',\n",
       "   'required': False},\n",
       "  {'conceptTitle': False,\n",
       "   'dataType': 'string',\n",
       "   'default': True,\n",
       "   'description': u'',\n",
       "   'displayName': u'StimulationArrayPlacement',\n",
       "   'id': u'41f15851-cc14-4f22-9619-0b2d822f5f55',\n",
       "   'locked': False,\n",
       "   'name': u'StimulationArrayPlacement',\n",
       "   'required': False},\n",
       "  {'conceptTitle': False,\n",
       "   'dataType': 'double',\n",
       "   'default': True,\n",
       "   'description': u'',\n",
       "   'displayName': u'TrialId',\n",
       "   'id': u'40e4f18e-d292-4c77-a0d1-9a8df1b2672f',\n",
       "   'locked': False,\n",
       "   'name': u'TrialId',\n",
       "   'required': False},\n",
       "  {'conceptTitle': False,\n",
       "   'dataType': 'string',\n",
       "   'default': True,\n",
       "   'description': u'',\n",
       "   'displayName': u'MainRawDataFileLocalPath',\n",
       "   'id': u'0d96b7eb-4db5-4521-8b20-c1e46371d3fc',\n",
       "   'locked': False,\n",
       "   'name': u'MainRawDataFileLocalPath',\n",
       "   'required': False}]}"
      ]
     },
     "execution_count": 41,
     "metadata": {},
     "output_type": "execute_result"
    }
   ],
   "source": [
    "hModel.as_dict()"
   ]
  },
  {
   "cell_type": "code",
   "execution_count": 46,
   "metadata": {},
   "outputs": [],
   "source": [
    "records = hModel.get_all()"
   ]
  },
  {
   "cell_type": "code",
   "execution_count": 47,
   "metadata": {
    "scrolled": true
   },
   "outputs": [
    {
     "data": {
      "text/plain": [
       "[<Record type='Trial' id='82b3b309-4e6c-3664-4776-398e6bc7202c'>,\n",
       " <Record type='Trial' id='64b3b309-4e80-3566-e300-af8d038fd356'>,\n",
       " <Record type='Trial' id='d4b3b309-4e92-9bd1-2946-bf58b842d029'>,\n",
       " <Record type='Trial' id='44b3b309-4ea5-6485-9ad3-86bc9e62e8ab'>,\n",
       " <Record type='Trial' id='fcb3b309-4eb7-8172-f8e6-4602bd4b8414'>,\n",
       " <Record type='Trial' id='4ab3b309-4eca-5665-cf10-b594179fce07'>,\n",
       " <Record type='Trial' id='82b3b309-4edd-5226-21db-4b58b1bc432a'>,\n",
       " <Record type='Trial' id='b2b3b309-4ef0-3b61-e775-5a75614723fd'>,\n",
       " <Record type='Trial' id='90b3b309-4f03-a8fb-3a45-41f2f18a242c'>,\n",
       " <Record type='Trial' id='64b3b309-4f15-ac1e-c36c-9ccf6a47878d'>,\n",
       " <Record type='Trial' id='c2b3b309-4f28-066c-276b-7db5a52f387b'>,\n",
       " <Record type='Trial' id='84b3b309-4f3b-289f-c497-f4f932508b5f'>,\n",
       " <Record type='Trial' id='8cb3b309-4f4e-fdf4-9122-d8201ad5f386'>,\n",
       " <Record type='Trial' id='38b3b309-4f61-1774-0c4f-d635426aa0fa'>,\n",
       " <Record type='Trial' id='feb3b309-4f73-ca5c-f3f7-818c2ad0d64e'>,\n",
       " <Record type='Trial' id='c2b3b309-4f87-2747-e1dd-db5aa171473f'>,\n",
       " <Record type='Trial' id='beb3b309-4f99-64fe-af2e-42fff9331f52'>,\n",
       " <Record type='Trial' id='5eb3b309-4faa-eb2c-9c2c-9e822d6ce090'>,\n",
       " <Record type='Trial' id='72b3b309-4fbc-9ec4-37d3-71f74a7e4403'>,\n",
       " <Record type='Trial' id='ecb3b309-4fce-86eb-fb9d-b9c9ae9091b5'>,\n",
       " <Record type='Trial' id='86b3b309-4fe1-5d30-d3e9-6dc3b56fb1af'>,\n",
       " <Record type='Trial' id='d0b3b309-4ff3-b890-c8e1-bd82a7c28493'>,\n",
       " <Record type='Trial' id='c2b3b309-5005-652f-a357-1d806241400e'>,\n",
       " <Record type='Trial' id='a2b3b309-5017-04b3-5265-3dd49ffc8fd9'>,\n",
       " <Record type='Trial' id='4eb3b309-502a-7f32-d1b4-989e1f2cf816'>,\n",
       " <Record type='Trial' id='0eb3b309-503d-ef85-51a4-28da62bdc69e'>,\n",
       " <Record type='Trial' id='9eb3b309-5051-bd08-4ac4-276318efc6e1'>,\n",
       " <Record type='Trial' id='80b3b309-5064-d612-d803-6197f06e0d5c'>,\n",
       " <Record type='Trial' id='e4b3b309-5078-d614-02a9-fa7c6bb2c504'>,\n",
       " <Record type='Trial' id='04b3b309-508a-c2a2-7d75-e33ca22e5275'>,\n",
       " <Record type='Trial' id='c2b3b309-509c-de3e-508c-941a7b2eabf8'>,\n",
       " <Record type='Trial' id='0eb3b309-50af-3754-a623-65c85bf7e5c2'>,\n",
       " <Record type='Trial' id='9ab3b309-50c2-516c-b1bd-a2348e03b2f3'>,\n",
       " <Record type='Trial' id='3cb3b309-50d4-3d4c-5361-a8becd278635'>,\n",
       " <Record type='Trial' id='d8b3b309-50e6-03c6-d354-d8a0866ea22e'>,\n",
       " <Record type='Trial' id='bcb3b309-50f9-1063-9146-eba5d62dd7dd'>,\n",
       " <Record type='Trial' id='28b3b309-510b-7847-c144-4f2b694dc162'>,\n",
       " <Record type='Trial' id='dab3b309-5122-edfa-2801-e13d6194638f'>,\n",
       " <Record type='Trial' id='64b3b309-5135-ec76-7ea0-b07fae4ad340'>,\n",
       " <Record type='Trial' id='08b3b309-5148-7a40-5928-f91663ecd033'>,\n",
       " <Record type='Trial' id='78b3b309-515a-07f7-e601-5c28b41c993b'>,\n",
       " <Record type='Trial' id='76b3b309-516c-ce06-8a16-302eeb0e8230'>,\n",
       " <Record type='Trial' id='9cb3b309-517f-d6a5-92fd-980befd65a0e'>,\n",
       " <Record type='Trial' id='c4b3b309-5192-8de7-f4f7-e8fee2c7c660'>,\n",
       " <Record type='Trial' id='b8b3b309-51a5-0e39-2c1b-7b7a80304fda'>,\n",
       " <Record type='Trial' id='52b3b309-51b8-54b8-8b9e-c9b1d882c9d2'>,\n",
       " <Record type='Trial' id='0cb3b309-51ca-6dc8-cbe9-c0f03744a73a'>,\n",
       " <Record type='Trial' id='64b3b309-51dc-ff7d-2806-2e9d5eb876a8'>,\n",
       " <Record type='Trial' id='a4b3b309-51ef-da3e-e65b-a1221847f83a'>,\n",
       " <Record type='Trial' id='e6b3b309-5201-d661-31c7-f0b5fead791c'>,\n",
       " <Record type='Trial' id='86b3b309-5214-7e50-ac9e-6d356ab1ad7e'>,\n",
       " <Record type='Trial' id='02b3b309-5227-8b7b-22bc-d56ee134d47f'>,\n",
       " <Record type='Trial' id='3eb3b309-523a-55db-4b72-26f631778b38'>,\n",
       " <Record type='Trial' id='a8b3b309-524c-40ad-a728-ab7c047836bf'>,\n",
       " <Record type='Trial' id='6cb3b309-525f-21b6-a823-73cca1866f81'>,\n",
       " <Record type='Trial' id='00b3b309-5271-cb2b-e895-df16f71508f7'>,\n",
       " <Record type='Trial' id='0cb3b309-5284-7bbb-d2c9-ee6a256b4680'>,\n",
       " <Record type='Trial' id='eab3b309-5296-d968-4e31-8b4b79431512'>,\n",
       " <Record type='Trial' id='50b3b309-52a9-1068-af87-2440dbb5c551'>,\n",
       " <Record type='Trial' id='32b3b309-52bb-9c5f-6226-349de7f46834'>,\n",
       " <Record type='Trial' id='a4b3b309-52ce-af33-5d78-4f9d1e5c6ed6'>,\n",
       " <Record type='Trial' id='a8b3b309-52e1-0401-5bab-fcb4d87cae4b'>,\n",
       " <Record type='Trial' id='3eb3b309-52f4-bb48-6120-202fc96f2665'>,\n",
       " <Record type='Trial' id='e2b3b309-5306-f258-51f6-e3de008d05b8'>,\n",
       " <Record type='Trial' id='50b3b309-5319-94fd-8669-76f0e01caba5'>,\n",
       " <Record type='Trial' id='5cb3b309-532d-e641-35e4-8ec5b9499916'>,\n",
       " <Record type='Trial' id='32b3b309-5340-78c2-cad4-168cb3ec06cc'>,\n",
       " <Record type='Trial' id='5ab3b309-5353-03ef-6781-f3058027b108'>,\n",
       " <Record type='Trial' id='dab3b309-5366-63f0-da6b-b2b4ce257466'>,\n",
       " <Record type='Trial' id='eab3b309-537a-d0ac-4f5d-50431493260c'>,\n",
       " <Record type='Trial' id='1ab3b309-538d-6bb2-51fb-a819ef2ff8bf'>,\n",
       " <Record type='Trial' id='e6b3b309-539e-cdc1-5c46-37f89342df46'>,\n",
       " <Record type='Trial' id='86b3b309-53b1-97bf-c270-3fd3d994e792'>,\n",
       " <Record type='Trial' id='feb3b309-53c3-4766-cbe7-5d1f1e40b98a'>,\n",
       " <Record type='Trial' id='68b3b309-53d5-830e-1cc2-40ec385b2592'>,\n",
       " <Record type='Trial' id='dcb3b309-53e7-e723-9a54-e921378d8d4e'>,\n",
       " <Record type='Trial' id='eeb3b309-53f9-63b6-7948-1a9041886c16'>,\n",
       " <Record type='Trial' id='94b3b309-540c-5542-57e5-c14aa8d2b5f8'>,\n",
       " <Record type='Trial' id='2eb3b309-5420-6ae6-5bdc-37c09f139b1f'>,\n",
       " <Record type='Trial' id='f6b3b309-5432-693e-faac-290d29023f4c'>,\n",
       " <Record type='Trial' id='08b3b309-5446-f223-ee22-36e6b6fa15c8'>,\n",
       " <Record type='Trial' id='f0b3b309-545a-33ae-7b05-d800ac34dd07'>,\n",
       " <Record type='Trial' id='70b3b309-546e-6aaa-a987-6273258dd72e'>,\n",
       " <Record type='Trial' id='1ab3b309-5480-375f-7f5c-824737f65d48'>,\n",
       " <Record type='Trial' id='38b3b309-5493-166c-b3bb-8ec3589636a4'>,\n",
       " <Record type='Trial' id='c6b3b309-54a5-9b86-c4d1-8a75ca67d0ce'>,\n",
       " <Record type='Trial' id='54b3b309-54b8-6fd8-4829-bccd67e397ad'>,\n",
       " <Record type='Trial' id='52b3b309-54ca-b931-7151-e2b4e879d7a5'>,\n",
       " <Record type='Trial' id='dab3b309-54dd-0d3e-dfb8-1c283e47d2f6'>,\n",
       " <Record type='Trial' id='94b3b309-54ef-1aa9-fbe0-568a95de3e6a'>,\n",
       " <Record type='Trial' id='c0b3b309-5506-6d73-020b-19d3f42e95ec'>,\n",
       " <Record type='Trial' id='76b3b309-5519-48cc-b62f-e34c8d420e8a'>,\n",
       " <Record type='Trial' id='24b3b309-552b-a930-9c2d-ea3127b82242'>,\n",
       " <Record type='Trial' id='f2b3b309-553c-9595-265f-03974ff60390'>,\n",
       " <Record type='Trial' id='c4b3b309-554e-5149-749c-1c563716905f'>,\n",
       " <Record type='Trial' id='3ab3b309-5560-502c-4d08-9818c6402590'>,\n",
       " <Record type='Trial' id='10b3b309-5572-fbf8-22a4-4a5deab14e2b'>,\n",
       " <Record type='Trial' id='6cb3b309-5584-c944-5f09-0d17f0f7c74a'>,\n",
       " <Record type='Trial' id='4eb3b309-5597-c80d-f079-7e68bf0591cc'>,\n",
       " <Record type='Trial' id='d0b3b309-55ab-39a1-237b-494adab8c67f'>]"
      ]
     },
     "execution_count": 47,
     "metadata": {},
     "output_type": "execute_result"
    }
   ],
   "source": [
    "records"
   ]
  },
  {
   "cell_type": "code",
   "execution_count": 48,
   "metadata": {},
   "outputs": [],
   "source": [
    "record = records[0]"
   ]
  },
  {
   "cell_type": "code",
   "execution_count": 52,
   "metadata": {},
   "outputs": [],
   "source": [
    "GRANT_MODEL_DC_ID = '6e81a9fd-7c46-4242-89d6-80fe5875e2be'\n",
    "GRANT_RECORD_DC_ID = '24b3b2af-2461-b746-d462-4b78715b9e95'"
   ]
  },
  {
   "cell_type": "code",
   "execution_count": 54,
   "metadata": {},
   "outputs": [
    {
     "data": {
      "text/plain": [
       "<Model type='Grant' id='6e81a9fd-7c46-4242-89d6-80fe5875e2be'>"
      ]
     },
     "execution_count": 54,
     "metadata": {},
     "output_type": "execute_result"
    }
   ],
   "source": [
    "mGrant = dcDataset.get_model(GRANT_MODEL_DC_ID)\n",
    "mGrant"
   ]
  },
  {
   "cell_type": "code",
   "execution_count": 56,
   "metadata": {},
   "outputs": [
    {
     "data": {
      "text/plain": [
       "<Record type='Grant' id='24b3b2af-2461-b746-d462-4b78715b9e95'>"
      ]
     },
     "execution_count": 56,
     "metadata": {},
     "output_type": "execute_result"
    }
   ],
   "source": [
    "rGrant = mGrant.get(GRANT_RECORD_DC_ID)\n",
    "rGrant"
   ]
  },
  {
   "cell_type": "code",
   "execution_count": 59,
   "metadata": {},
   "outputs": [
    {
     "data": {
      "text/plain": [
       "[]"
      ]
     },
     "execution_count": 59,
     "metadata": {},
     "output_type": "execute_result"
    }
   ],
   "source": [
    "rGrant.get_files()"
   ]
  },
  {
   "cell_type": "code",
   "execution_count": 60,
   "metadata": {},
   "outputs": [
    {
     "data": {
      "text/plain": [
       "[<Record type='Subject' id='28b3b2dd-d92f-60c0-ed65-cd6bc11c6e62'>,\n",
       " <Record type='Subject' id='d8b3b2dd-d943-0e6a-d183-d284ec7c9061'>,\n",
       " <Record type='Subject' id='74b3b2dd-d955-7ea4-6ffa-19476ecec2e1'>]"
      ]
     },
     "execution_count": 60,
     "metadata": {},
     "output_type": "execute_result"
    }
   ],
   "source": [
    "rGrant.get_related()"
   ]
  },
  {
   "cell_type": "code",
   "execution_count": 67,
   "metadata": {},
   "outputs": [
    {
     "data": {
      "text/plain": [
       "(<Record type='Subject' id='28b3b2dd-d92f-60c0-ed65-cd6bc11c6e62'>,\n",
       " u'AlexanderKeith')"
      ]
     },
     "execution_count": 67,
     "metadata": {},
     "output_type": "execute_result"
    }
   ],
   "source": [
    "rSubject = rGrant.get_related()[0]\n",
    "rSubject,rSubject.get('SubjectName')"
   ]
  },
  {
   "cell_type": "code",
   "execution_count": 62,
   "metadata": {},
   "outputs": [
    {
     "data": {
      "text/plain": [
       "0"
      ]
     },
     "execution_count": 62,
     "metadata": {},
     "output_type": "execute_result"
    }
   ],
   "source": [
    "files = rSubject.get_files()\n",
    "len(files)"
   ]
  },
  {
   "cell_type": "code",
   "execution_count": 63,
   "metadata": {},
   "outputs": [
    {
     "data": {
      "text/plain": [
       "101"
      ]
     },
     "execution_count": 63,
     "metadata": {},
     "output_type": "execute_result"
    }
   ],
   "source": [
    "related = rSubject.get_related()\n",
    "len(related)"
   ]
  },
  {
   "cell_type": "code",
   "execution_count": 64,
   "metadata": {},
   "outputs": [
    {
     "data": {
      "text/plain": [
       "[<Record type='Trial' id='82b3b309-4e6c-3664-4776-398e6bc7202c'>,\n",
       " <Record type='Trial' id='64b3b309-4e80-3566-e300-af8d038fd356'>,\n",
       " <Record type='Trial' id='d4b3b309-4e92-9bd1-2946-bf58b842d029'>,\n",
       " <Record type='Trial' id='44b3b309-4ea5-6485-9ad3-86bc9e62e8ab'>,\n",
       " <Record type='Trial' id='fcb3b309-4eb7-8172-f8e6-4602bd4b8414'>,\n",
       " <Record type='Trial' id='4ab3b309-4eca-5665-cf10-b594179fce07'>,\n",
       " <Record type='Trial' id='82b3b309-4edd-5226-21db-4b58b1bc432a'>,\n",
       " <Record type='Trial' id='b2b3b309-4ef0-3b61-e775-5a75614723fd'>,\n",
       " <Record type='Trial' id='90b3b309-4f03-a8fb-3a45-41f2f18a242c'>,\n",
       " <Record type='Trial' id='64b3b309-4f15-ac1e-c36c-9ccf6a47878d'>,\n",
       " <Record type='Trial' id='c2b3b309-4f28-066c-276b-7db5a52f387b'>,\n",
       " <Record type='Trial' id='84b3b309-4f3b-289f-c497-f4f932508b5f'>,\n",
       " <Record type='Trial' id='8cb3b309-4f4e-fdf4-9122-d8201ad5f386'>,\n",
       " <Record type='Trial' id='38b3b309-4f61-1774-0c4f-d635426aa0fa'>,\n",
       " <Record type='Trial' id='feb3b309-4f73-ca5c-f3f7-818c2ad0d64e'>,\n",
       " <Record type='Trial' id='c2b3b309-4f87-2747-e1dd-db5aa171473f'>,\n",
       " <Record type='Trial' id='beb3b309-4f99-64fe-af2e-42fff9331f52'>,\n",
       " <Record type='Trial' id='5eb3b309-4faa-eb2c-9c2c-9e822d6ce090'>,\n",
       " <Record type='Trial' id='72b3b309-4fbc-9ec4-37d3-71f74a7e4403'>,\n",
       " <Record type='Trial' id='ecb3b309-4fce-86eb-fb9d-b9c9ae9091b5'>,\n",
       " <Record type='Trial' id='86b3b309-4fe1-5d30-d3e9-6dc3b56fb1af'>,\n",
       " <Record type='Trial' id='d0b3b309-4ff3-b890-c8e1-bd82a7c28493'>,\n",
       " <Record type='Trial' id='c2b3b309-5005-652f-a357-1d806241400e'>,\n",
       " <Record type='Trial' id='a2b3b309-5017-04b3-5265-3dd49ffc8fd9'>,\n",
       " <Record type='Trial' id='4eb3b309-502a-7f32-d1b4-989e1f2cf816'>,\n",
       " <Record type='Trial' id='0eb3b309-503d-ef85-51a4-28da62bdc69e'>,\n",
       " <Record type='Trial' id='9eb3b309-5051-bd08-4ac4-276318efc6e1'>,\n",
       " <Record type='Trial' id='80b3b309-5064-d612-d803-6197f06e0d5c'>,\n",
       " <Record type='Trial' id='e4b3b309-5078-d614-02a9-fa7c6bb2c504'>,\n",
       " <Record type='Trial' id='04b3b309-508a-c2a2-7d75-e33ca22e5275'>,\n",
       " <Record type='Trial' id='c2b3b309-509c-de3e-508c-941a7b2eabf8'>,\n",
       " <Record type='Trial' id='0eb3b309-50af-3754-a623-65c85bf7e5c2'>,\n",
       " <Record type='Trial' id='9ab3b309-50c2-516c-b1bd-a2348e03b2f3'>,\n",
       " <Record type='Trial' id='3cb3b309-50d4-3d4c-5361-a8becd278635'>,\n",
       " <Record type='Trial' id='d8b3b309-50e6-03c6-d354-d8a0866ea22e'>,\n",
       " <Record type='Trial' id='bcb3b309-50f9-1063-9146-eba5d62dd7dd'>,\n",
       " <Record type='Trial' id='28b3b309-510b-7847-c144-4f2b694dc162'>,\n",
       " <Record type='Trial' id='dab3b309-5122-edfa-2801-e13d6194638f'>,\n",
       " <Record type='Trial' id='64b3b309-5135-ec76-7ea0-b07fae4ad340'>,\n",
       " <Record type='Trial' id='08b3b309-5148-7a40-5928-f91663ecd033'>,\n",
       " <Record type='Trial' id='78b3b309-515a-07f7-e601-5c28b41c993b'>,\n",
       " <Record type='Trial' id='76b3b309-516c-ce06-8a16-302eeb0e8230'>,\n",
       " <Record type='Trial' id='9cb3b309-517f-d6a5-92fd-980befd65a0e'>,\n",
       " <Record type='Trial' id='c4b3b309-5192-8de7-f4f7-e8fee2c7c660'>,\n",
       " <Record type='Trial' id='b8b3b309-51a5-0e39-2c1b-7b7a80304fda'>,\n",
       " <Record type='Trial' id='52b3b309-51b8-54b8-8b9e-c9b1d882c9d2'>,\n",
       " <Record type='Trial' id='0cb3b309-51ca-6dc8-cbe9-c0f03744a73a'>,\n",
       " <Record type='Trial' id='64b3b309-51dc-ff7d-2806-2e9d5eb876a8'>,\n",
       " <Record type='Trial' id='a4b3b309-51ef-da3e-e65b-a1221847f83a'>,\n",
       " <Record type='Trial' id='e6b3b309-5201-d661-31c7-f0b5fead791c'>,\n",
       " <Record type='Trial' id='86b3b309-5214-7e50-ac9e-6d356ab1ad7e'>,\n",
       " <Record type='Trial' id='02b3b309-5227-8b7b-22bc-d56ee134d47f'>,\n",
       " <Record type='Trial' id='3eb3b309-523a-55db-4b72-26f631778b38'>,\n",
       " <Record type='Trial' id='a8b3b309-524c-40ad-a728-ab7c047836bf'>,\n",
       " <Record type='Trial' id='6cb3b309-525f-21b6-a823-73cca1866f81'>,\n",
       " <Record type='Trial' id='00b3b309-5271-cb2b-e895-df16f71508f7'>,\n",
       " <Record type='Trial' id='0cb3b309-5284-7bbb-d2c9-ee6a256b4680'>,\n",
       " <Record type='Trial' id='eab3b309-5296-d968-4e31-8b4b79431512'>,\n",
       " <Record type='Trial' id='50b3b309-52a9-1068-af87-2440dbb5c551'>,\n",
       " <Record type='Trial' id='32b3b309-52bb-9c5f-6226-349de7f46834'>,\n",
       " <Record type='Trial' id='a4b3b309-52ce-af33-5d78-4f9d1e5c6ed6'>,\n",
       " <Record type='Trial' id='a8b3b309-52e1-0401-5bab-fcb4d87cae4b'>,\n",
       " <Record type='Trial' id='3eb3b309-52f4-bb48-6120-202fc96f2665'>,\n",
       " <Record type='Trial' id='e2b3b309-5306-f258-51f6-e3de008d05b8'>,\n",
       " <Record type='Trial' id='50b3b309-5319-94fd-8669-76f0e01caba5'>,\n",
       " <Record type='Trial' id='5cb3b309-532d-e641-35e4-8ec5b9499916'>,\n",
       " <Record type='Trial' id='32b3b309-5340-78c2-cad4-168cb3ec06cc'>,\n",
       " <Record type='Trial' id='5ab3b309-5353-03ef-6781-f3058027b108'>,\n",
       " <Record type='Trial' id='dab3b309-5366-63f0-da6b-b2b4ce257466'>,\n",
       " <Record type='Trial' id='eab3b309-537a-d0ac-4f5d-50431493260c'>,\n",
       " <Record type='Trial' id='1ab3b309-538d-6bb2-51fb-a819ef2ff8bf'>,\n",
       " <Record type='Trial' id='e6b3b309-539e-cdc1-5c46-37f89342df46'>,\n",
       " <Record type='Trial' id='86b3b309-53b1-97bf-c270-3fd3d994e792'>,\n",
       " <Record type='Trial' id='feb3b309-53c3-4766-cbe7-5d1f1e40b98a'>,\n",
       " <Record type='Trial' id='68b3b309-53d5-830e-1cc2-40ec385b2592'>,\n",
       " <Record type='Trial' id='dcb3b309-53e7-e723-9a54-e921378d8d4e'>,\n",
       " <Record type='Trial' id='eeb3b309-53f9-63b6-7948-1a9041886c16'>,\n",
       " <Record type='Trial' id='94b3b309-540c-5542-57e5-c14aa8d2b5f8'>,\n",
       " <Record type='Trial' id='2eb3b309-5420-6ae6-5bdc-37c09f139b1f'>,\n",
       " <Record type='Trial' id='f6b3b309-5432-693e-faac-290d29023f4c'>,\n",
       " <Record type='Trial' id='08b3b309-5446-f223-ee22-36e6b6fa15c8'>,\n",
       " <Record type='Trial' id='f0b3b309-545a-33ae-7b05-d800ac34dd07'>,\n",
       " <Record type='Trial' id='70b3b309-546e-6aaa-a987-6273258dd72e'>,\n",
       " <Record type='Trial' id='1ab3b309-5480-375f-7f5c-824737f65d48'>,\n",
       " <Record type='Trial' id='38b3b309-5493-166c-b3bb-8ec3589636a4'>,\n",
       " <Record type='Trial' id='c6b3b309-54a5-9b86-c4d1-8a75ca67d0ce'>,\n",
       " <Record type='Trial' id='54b3b309-54b8-6fd8-4829-bccd67e397ad'>,\n",
       " <Record type='Trial' id='52b3b309-54ca-b931-7151-e2b4e879d7a5'>,\n",
       " <Record type='Trial' id='dab3b309-54dd-0d3e-dfb8-1c283e47d2f6'>,\n",
       " <Record type='Trial' id='94b3b309-54ef-1aa9-fbe0-568a95de3e6a'>,\n",
       " <Record type='Trial' id='c0b3b309-5506-6d73-020b-19d3f42e95ec'>,\n",
       " <Record type='Trial' id='76b3b309-5519-48cc-b62f-e34c8d420e8a'>,\n",
       " <Record type='Trial' id='24b3b309-552b-a930-9c2d-ea3127b82242'>,\n",
       " <Record type='Trial' id='f2b3b309-553c-9595-265f-03974ff60390'>,\n",
       " <Record type='Trial' id='c4b3b309-554e-5149-749c-1c563716905f'>,\n",
       " <Record type='Trial' id='3ab3b309-5560-502c-4d08-9818c6402590'>,\n",
       " <Record type='Trial' id='10b3b309-5572-fbf8-22a4-4a5deab14e2b'>,\n",
       " <Record type='Trial' id='6cb3b309-5584-c944-5f09-0d17f0f7c74a'>,\n",
       " <Record type='Trial' id='4eb3b309-5597-c80d-f079-7e68bf0591cc'>,\n",
       " <Record type='Trial' id='d0b3b309-55ab-39a1-237b-494adab8c67f'>,\n",
       " <Record type='Grant' id='24b3b2af-2461-b746-d462-4b78715b9e95'>]"
      ]
     },
     "execution_count": 64,
     "metadata": {},
     "output_type": "execute_result"
    }
   ],
   "source": [
    "related"
   ]
  },
  {
   "cell_type": "code",
   "execution_count": null,
   "metadata": {},
   "outputs": [],
   "source": []
  }
 ],
 "metadata": {
  "kernelspec": {
   "display_name": "Python 2",
   "language": "python",
   "name": "python2"
  },
  "language_info": {
   "codemirror_mode": {
    "name": "ipython",
    "version": 2
   },
   "file_extension": ".py",
   "mimetype": "text/x-python",
   "name": "python",
   "nbconvert_exporter": "python",
   "pygments_lexer": "ipython2",
   "version": "2.7.12"
  }
 },
 "nbformat": 4,
 "nbformat_minor": 2
}
